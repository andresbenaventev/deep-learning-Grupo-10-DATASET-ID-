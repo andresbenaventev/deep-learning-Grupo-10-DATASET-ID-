{
 "cells": [
  {
   "cell_type": "markdown",
   "metadata": {},
   "source": [
    "# Guía estructurada de la Tarea 1\n",
    "\n",
    "Este notebook resume los hitos principales del enunciado para mantener un plan de trabajo ordenado. Avanza sección por sección y completa cada hito conforme desarrolles tu solución del proyecto.\n"
   ]
  },
  {
   "cell_type": "code",
   "execution_count": null,
   "metadata": {},
   "outputs": [],
   "source": [
    "# Configuración base para reproducibilidad\n",
    "GLOBAL_SEED = 42\n",
    "DATASET_ID = \"<por_definir>\"\n"
   ]
  },
  {
   "cell_type": "markdown",
   "metadata": {},
   "source": [
    "## 1. E–T–P y framing\n",
    "\n",
    "- Describe la Experiencia (E), la Tarea (T) y el Performance/criterio (P).\n",
    "- Define el framing principal como clasificación binaria de `purchase` con salida probabilística.\n",
    "- Justifica si usarás tasas agregadas y la decisión de negocio basada en umbrales.\n",
    "\n"
   ]
  },
  {
   "cell_type": "markdown",
   "metadata": {},
   "source": [
    "## 2. Métricas y pérdida\n",
    "\n",
    "- Usa log-loss (entropía cruzada) como pérdida principal.\n",
    "- Reporta AUC y Brier score.\n",
    "- Explica por qué MSE no es adecuado como objetivo principal y relaciónalo con máxima verosimilitud.\n",
    "\n"
   ]
  },
  {
   "cell_type": "markdown",
   "metadata": {},
   "source": [
    "## 3. Diseño de validación y control de capacidad\n",
    "\n",
    "- Define particiones train/valid/test (70/15/15) o k-fold para escoger hiperparámetros.\n",
    "- Reentrena con los mejores hiperparámetros antes del test.\n",
    "- Controla capacidad con regularización L2 (parámetro C) y grafica curvas train/valid vs. complejidad o learning curves.\n",
    "- Explica el trade-off sesgo–varianza.\n",
    "\n"
   ]
  },
  {
   "cell_type": "markdown",
   "metadata": {},
   "source": [
    "## 4. Preprocesamiento\n",
    "\n",
    "- Explora el dataset para identificar duplicados, variables irrelevantes o leakage.\n",
    "- Define codificación de variables categóricas, escalamiento y manejo de outliers o nulos según corresponda.\n",
    "\n"
   ]
  },
  {
   "cell_type": "markdown",
   "metadata": {},
   "source": [
    "## 5. Modelado predictivo\n",
    "\n",
    "- Entrena al menos dos modelos de clasificación (ej. regresión logística, árbol, random forest, XGBoost).\n",
    "- Compara su desempeño inicial.\n",
    "\n"
   ]
  },
  {
   "cell_type": "markdown",
   "metadata": {},
   "source": [
    "## 6. Evaluación\n",
    "\n",
    "- Reporta métricas de clasificación: accuracy, precision, recall, F1-score y AUC-ROC.\n",
    "\n"
   ]
  },
  {
   "cell_type": "markdown",
   "metadata": {},
   "source": [
    "## 7. Discusión de resultados\n",
    "\n",
    "- Destaca variables relevantes para los modelos.\n",
    "- Justifica columnas excluidas (especialmente leaks).\n",
    "- Propón insights accionables para la empresa.\n",
    "\n"
   ]
  },
  {
   "cell_type": "markdown",
   "metadata": {},
   "source": [
    "## 8. Política operativa y sensibilidad\n",
    "\n",
    "- Formula una regla clara: contactar/ofrecer si la probabilidad estimada supera el umbral t.\n",
    "- Analiza sensibilidad (ej. utilidad esperada por umbral) y discute implicancias.\n",
    "\n"
   ]
  },
  {
   "cell_type": "markdown",
   "metadata": {},
   "source": [
    "## 9. Riesgos y mitigación\n",
    "\n",
    "- Identifica al menos tres riesgos: leakage, sesgo de muestreo, shift temporal/segmento.\n",
    "- Propón mitigaciones (auditoría de variables, validación por segmento o fuera de tiempo, calibration, A/B).\n",
    "\n"
   ]
  },
  {
   "cell_type": "markdown",
   "metadata": {},
   "source": [
    "## 10. Resultados y conclusiones\n",
    "\n",
    "- Resume hallazgos clave: saturación, desempeño en test, umbral recomendado.\n",
    "- Indica cómo debe operar la empresa con el modelo final.\n",
    "\n"
   ]
  },
  {
   "cell_type": "markdown",
   "metadata": {},
   "source": [
    "## Extras opcionales\n",
    "\n",
    "- Mostrar efectos de usar `leak_after_offer` para evidenciar data leakage.\n",
    "- Calcular métricas de negocio (ej. expected profit) usando `unit_margin_if_buy`.\n",
    "- Comparar `discount` numérico vs. `discount_bucket`.\n",
    "\n"
   ]
  },
  {
   "cell_type": "markdown",
   "metadata": {},
   "source": [
    "## Formato y reproducibilidad\n",
    "\n",
    "- Declara semilla global y DATASET_ID en la primera celda.\n",
    "- Fija semillas para NumPy/sklearn y repórtalas.\n",
    "- Reporta versiones de librerías y hash SHA-256 del CSV.\n",
    "- Trabaja sólo con el dataset entregado, sin regenerar datos.\n",
    "- Entrega resultados específicos de tu dataset.\n",
    "\n"
   ]
  }
 ],
 "metadata": {
  "kernelspec": {
   "display_name": "Python 3",
   "language": "python",
   "name": "python3"
  },
  "language_info": {
   "name": "python",
   "version": "3.12"
  }
 },
 "nbformat": 4,
 "nbformat_minor": 5
}