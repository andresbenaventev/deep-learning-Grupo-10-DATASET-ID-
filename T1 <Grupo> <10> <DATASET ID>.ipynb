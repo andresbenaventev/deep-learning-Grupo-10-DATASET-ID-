{
 "cells": [
  {
   "cell_type": "markdown",
   "id": "5mcyPkl8etAu",
   "metadata": {
    "id": "5mcyPkl8etAu"
   },
   "source": [
    "# Guía estructurada de la Tarea 1\n",
    "\n",
    "Este notebook resume los hitos principales del enunciado para mantener un plan de trabajo ordenado. Avanza sección por sección y completa cada hito conforme desarrolles tu solución del proyecto.\n"
   ]
  },
  {
   "cell_type": "code",
   "execution_count": 1,
   "id": "Nl_xPaNWetAw",
   "metadata": {
    "execution": {
     "iopub.execute_input": "2025-10-03T19:34:21.978128Z",
     "iopub.status.busy": "2025-10-03T19:34:21.977941Z",
     "iopub.status.idle": "2025-10-03T19:34:22.059852Z",
     "shell.execute_reply": "2025-10-03T19:34:22.059440Z"
    },
    "id": "Nl_xPaNWetAw"
   },
   "outputs": [],
   "source": [
    "# Configuración base para reproducibilidad\n",
    "import os\n",
    "import random\n",
    "from pathlib import Path\n",
    "\n",
    "import numpy as np\n",
    "\n",
    "GLOBAL_SEED = 42\n",
    "DATASET_ID = \"010\"\n",
    "\n",
    "random.seed(GLOBAL_SEED)\n",
    "np.random.seed(GLOBAL_SEED)\n"
   ]
  },
  {
   "cell_type": "markdown",
   "id": "3nDSy1YqetAz",
   "metadata": {
    "id": "3nDSy1YqetAz"
   },
   "source": [
    "## 1. E–T–P y framing\n",
    "\n",
    "- Describe la Experiencia (E), la Tarea (T) y el Performance/criterio (P).\n",
    "- Define el framing principal como clasificación binaria de `purchase` con salida probabilística.\n",
    "- Justifica si usarás tasas agregadas y la decisión de negocio basada en umbrales.\n",
    "\n"
   ]
  },
  {
   "cell_type": "markdown",
   "id": "KIjYp-BqetA1",
   "metadata": {
    "id": "KIjYp-BqetA1"
   },
   "source": [
    "## 2. Métricas y pérdida\n",
    "\n",
    "- Usa log-loss (entropía cruzada) como pérdida principal.\n",
    "- Reporta AUC y Brier score.\n",
    "- Explica por qué MSE no es adecuado como objetivo principal y relaciónalo con máxima verosimilitud.\n",
    "\n"
   ]
  },
  {
   "cell_type": "markdown",
   "id": "vEuuPE1ZetA1",
   "metadata": {
    "id": "vEuuPE1ZetA1"
   },
   "source": [
    "## 3. Diseño de validación y control de capacidad\n",
    "\n",
    "- Define particiones train/valid/test (70/15/15) o k-fold para escoger hiperparámetros.\n",
    "- Reentrena con los mejores hiperparámetros antes del test.\n",
    "- Controla capacidad con regularización L2 (parámetro C) y grafica curvas train/valid vs. complejidad o learning curves.\n",
    "- Explica el trade-off sesgo–varianza.\n",
    "\n"
   ]
  },
  {
   "cell_type": "markdown",
   "id": "Y-N5jkwjetA1",
   "metadata": {
    "id": "Y-N5jkwjetA1"
   },
   "source": [
    "## 4. Preprocesamiento\n",
    "\n",
    "- Explora el dataset para identificar duplicados, variables irrelevantes o leakage.\n",
    "- Define codificación de variables categóricas, escalamiento y manejo de outliers o nulos según corresponda.\n",
    "\n"
   ]
  },
  {
   "cell_type": "markdown",
   "id": "amvvIh7DetA1",
   "metadata": {
    "id": "amvvIh7DetA1"
   },
   "source": [
    "## 5. Modelado predictivo\n",
    "\n",
    "- Entrena al menos dos modelos de clasificación (ej. regresión logística, árbol, random forest, XGBoost).\n",
    "- Compara su desempeño inicial.\n",
    "\n"
   ]
  },
  {
   "cell_type": "markdown",
   "id": "TW7GqU-getA2",
   "metadata": {
    "id": "TW7GqU-getA2"
   },
   "source": [
    "## 6. Evaluación\n",
    "\n",
    "- Reporta métricas de clasificación: accuracy, precision, recall, F1-score y AUC-ROC.\n",
    "\n"
   ]
  },
  {
   "cell_type": "markdown",
   "id": "HlrEMA49etA2",
   "metadata": {
    "id": "HlrEMA49etA2"
   },
   "source": [
    "## 7. Discusión de resultados\n",
    "\n",
    "- Destaca variables relevantes para los modelos.\n",
    "- Justifica columnas excluidas (especialmente leaks).\n",
    "- Propón insights accionables para la empresa.\n",
    "\n"
   ]
  },
  {
   "cell_type": "markdown",
   "id": "oHPL15I0etA2",
   "metadata": {
    "id": "oHPL15I0etA2"
   },
   "source": [
    "## 8. Política operativa y sensibilidad\n",
    "\n",
    "- Formula una regla clara: contactar/ofrecer si la probabilidad estimada supera el umbral t.\n",
    "- Analiza sensibilidad (ej. utilidad esperada por umbral) y discute implicancias.\n",
    "\n"
   ]
  },
  {
   "cell_type": "markdown",
   "id": "gMP1LHp4etA2",
   "metadata": {
    "id": "gMP1LHp4etA2"
   },
   "source": [
    "## 9. Riesgos y mitigación\n",
    "\n",
    "- Identifica al menos tres riesgos: leakage, sesgo de muestreo, shift temporal/segmento.\n",
    "- Propón mitigaciones (auditoría de variables, validación por segmento o fuera de tiempo, calibration, A/B).\n",
    "\n"
   ]
  },
  {
   "cell_type": "markdown",
   "id": "VKuY-5JnetA3",
   "metadata": {
    "id": "VKuY-5JnetA3"
   },
   "source": [
    "## 10. Resultados y conclusiones\n",
    "\n",
    "- Resume hallazgos clave: saturación, desempeño en test, umbral recomendado.\n",
    "- Indica cómo debe operar la empresa con el modelo final.\n",
    "\n"
   ]
  },
  {
   "cell_type": "markdown",
   "id": "aA49wVLNetA3",
   "metadata": {
    "id": "aA49wVLNetA3"
   },
   "source": [
    "## Extras opcionales\n",
    "\n",
    "- Mostrar efectos de usar `leak_after_offer` para evidenciar data leakage.\n",
    "- Calcular métricas de negocio (ej. expected profit) usando `unit_margin_if_buy`.\n",
    "- Comparar `discount` numérico vs. `discount_bucket`.\n",
    "\n"
   ]
  },
  {
   "cell_type": "markdown",
   "id": "pC8fBNGxetA3",
   "metadata": {
    "id": "pC8fBNGxetA3"
   },
   "source": [
    "## Formato y reproducibilidad\n",
    "\n",
    "- Declara semilla global y DATASET_ID en la primera celda.\n",
    "- Fija semillas para NumPy/sklearn y repórtalas.\n",
    "- Reporta versiones de librerías y hash SHA-256 del CSV.\n",
    "- Trabaja sólo con el dataset entregado, sin regenerar datos.\n",
    "- Entrega resultados específicos de tu dataset.\n",
    "\n"
   ]
  },
  {
   "cell_type": "code",
   "execution_count": 2,
   "id": "fdf085eb",
   "metadata": {
    "execution": {
     "iopub.execute_input": "2025-10-03T19:34:22.063226Z",
     "iopub.status.busy": "2025-10-03T19:34:22.062966Z",
     "iopub.status.idle": "2025-10-03T19:34:22.394993Z",
     "shell.execute_reply": "2025-10-03T19:34:22.394491Z"
    }
   },
   "outputs": [
    {
     "name": "stdout",
     "output_type": "stream",
     "text": [
      "Registros: 6000, columnas: 11\n",
      "Columnas marcadas como leakage y excluidas del modelado: ['leak_after_offer']\n",
      "EXPERIENCIA\n",
      "Campaña outbound para clientes del segmento de retail financiero en la que cada fila del dataset\n",
      "representa un contacto individual previo al envío de una oferta de descuento.\n",
      "\n",
      "TAREA\n",
      "Predecir si el cliente concretará la compra del producto ofrecido (variable purchase) a partir de la\n",
      "información disponible antes de realizar la oferta.\n",
      "\n",
      "PERFORMANCE\n",
      "Evaluar la calidad de las predicciones probabilísticas minimizando log-loss y maximizando métricas\n",
      "discriminativas como AUC, para tomar decisiones comerciales basadas en umbrales.\n",
      "\n",
      "FRAMING\n",
      "Se modelará como un problema de clasificación binaria con salida probabilística sobre purchase. Esto\n",
      "permite fijar umbrales de contacto para priorizar a los clientes con mayor propensión.\n",
      "\n",
      "POLITICA_UMBRAL\n",
      "La operación aplicará un umbral sobre la probabilidad estimada: se contacta al cliente solo si la\n",
      "probabilidad supera t, lo que permite gestionar la capacidad y maximizar retorno esperado.\n",
      "\n"
     ]
    }
   ],
   "source": [
    "# Punto 1: E–T–P y framing del proyecto\n",
    "import textwrap\n",
    "from pathlib import Path\n",
    "\n",
    "import pandas as pd\n",
    "\n",
    "# Carga del dataset individual y descarte explícito de columnas con leakage.\n",
    "dataset_path = Path(f\"T1_{DATASET_ID}_individual.csv\")\n",
    "raw_df = pd.read_csv(dataset_path)\n",
    "\n",
    "print(f\"Registros: {raw_df.shape[0]}, columnas: {raw_df.shape[1]}\")\n",
    "leak_columns = [col for col in raw_df.columns if col.startswith(\"leak\")]\n",
    "if leak_columns:\n",
    "    print(\"Columnas marcadas como leakage y excluidas del modelado:\", leak_columns)\n",
    "\n",
    "# `df` será la versión libre de leakage utilizada para cualquier modelado posterior.\n",
    "df = raw_df.drop(columns=leak_columns)\n",
    "\n",
    "FEATURE_COLUMNS = [\n",
    "    \"segment\",\n",
    "    \"discount\",\n",
    "    \"age\",\n",
    "    \"tenure_months\",\n",
    "    \"income_index\",\n",
    "    \"web_visits_30d\",\n",
    "    \"unit_margin_if_buy\",\n",
    "    \"discount_bucket\",\n",
    "]\n",
    "TARGET_COLUMN = \"purchase\"\n",
    "CATEGORICAL_FEATURES = [\"segment\", \"discount_bucket\"]\n",
    "NUMERICAL_FEATURES = [\n",
    "    \"discount\",\n",
    "    \"age\",\n",
    "    \"tenure_months\",\n",
    "    \"income_index\",\n",
    "    \"web_visits_30d\",\n",
    "    \"unit_margin_if_buy\",\n",
    "]\n",
    "\n",
    "etp_framing = {\n",
    "    \"experiencia\": (\n",
    "        \"Campaña outbound para clientes del segmento de retail financiero en la que cada fila del dataset \"\n",
    "        \"representa un contacto individual previo al envío de una oferta de descuento.\"\n",
    "    ),\n",
    "    \"tarea\": (\n",
    "        \"Predecir si el cliente concretará la compra del producto ofrecido (variable purchase) a partir de \"\n",
    "        \"la información disponible antes de realizar la oferta.\"\n",
    "    ),\n",
    "    \"performance\": (\n",
    "        \"Evaluar la calidad de las predicciones probabilísticas minimizando log-loss y maximizando métricas \"\n",
    "        \"discriminativas como AUC, para tomar decisiones comerciales basadas en umbrales.\"\n",
    "    ),\n",
    "    \"framing\": (\n",
    "        \"Se modelará como un problema de clasificación binaria con salida probabilística sobre purchase. \"\n",
    "        \"Esto permite fijar umbrales de contacto para priorizar a los clientes con mayor propensión.\"\n",
    "    ),\n",
    "    \"politica_umbral\": (\n",
    "        \"La operación aplicará un umbral sobre la probabilidad estimada: se contacta al cliente solo si la \"\n",
    "        \"probabilidad supera t, lo que permite gestionar la capacidad y maximizar retorno esperado.\"\n",
    "    ),\n",
    "}\n",
    "\n",
    "for clave, descripcion in etp_framing.items():\n",
    "    print(clave.upper())\n",
    "    print(textwrap.fill(descripcion, width=100))\n",
    "    print()\n"
   ]
  },
  {
   "cell_type": "code",
   "execution_count": 3,
   "id": "68e7d0cc",
   "metadata": {
    "execution": {
     "iopub.execute_input": "2025-10-03T19:34:22.397279Z",
     "iopub.status.busy": "2025-10-03T19:34:22.396987Z",
     "iopub.status.idle": "2025-10-03T19:34:23.475894Z",
     "shell.execute_reply": "2025-10-03T19:34:23.475508Z"
    }
   },
   "outputs": [
    {
     "name": "stdout",
     "output_type": "stream",
     "text": [
      "Distribución de filas por partición (aprox. 70/15/15): {'train': 4199, 'valid': 901, 'test': 900}\n",
      "\n",
      "Métricas base (Regresión Logística con L2, C=1.0):\n"
     ]
    },
    {
     "data": {
      "text/html": [
       "<div>\n",
       "<style scoped>\n",
       "    .dataframe tbody tr th:only-of-type {\n",
       "        vertical-align: middle;\n",
       "    }\n",
       "\n",
       "    .dataframe tbody tr th {\n",
       "        vertical-align: top;\n",
       "    }\n",
       "\n",
       "    .dataframe thead th {\n",
       "        text-align: right;\n",
       "    }\n",
       "</style>\n",
       "<table border=\"1\" class=\"dataframe\">\n",
       "  <thead>\n",
       "    <tr style=\"text-align: right;\">\n",
       "      <th></th>\n",
       "      <th>log_loss</th>\n",
       "      <th>auc</th>\n",
       "      <th>brier_score</th>\n",
       "    </tr>\n",
       "  </thead>\n",
       "  <tbody>\n",
       "    <tr>\n",
       "      <th>train</th>\n",
       "      <td>0.3986</td>\n",
       "      <td>0.8664</td>\n",
       "      <td>0.1285</td>\n",
       "    </tr>\n",
       "    <tr>\n",
       "      <th>valid</th>\n",
       "      <td>0.4128</td>\n",
       "      <td>0.8606</td>\n",
       "      <td>0.1322</td>\n",
       "    </tr>\n",
       "  </tbody>\n",
       "</table>\n",
       "</div>"
      ],
      "text/plain": [
       "       log_loss     auc  brier_score\n",
       "train    0.3986  0.8664       0.1285\n",
       "valid    0.4128  0.8606       0.1322"
      ]
     },
     "metadata": {},
     "output_type": "display_data"
    },
    {
     "name": "stdout",
     "output_type": "stream",
     "text": [
      "\n",
      "Justificación sobre el rechazo de MSE:\n",
      "La pérdida log-loss coincide con la maximización de la verosimilitud de un modelo Bernoulli y\n",
      "penaliza con mayor fuerza las probabilidades mal calibradas. Usar MSE como objetivo para\n",
      "clasificación binaria rompe esta relación probabilística, produce gradientes pobres cerca de los\n",
      "extremos y no prioriza la calibración, por lo que no es adecuado como criterio principal.\n"
     ]
    }
   ],
   "source": [
    "# Punto 2: Métricas, pérdida y justificación del criterio probabilístico\n",
    "from IPython.display import display\n",
    "import numpy as np\n",
    "import pandas as pd\n",
    "from sklearn.compose import ColumnTransformer\n",
    "from sklearn.linear_model import LogisticRegression\n",
    "from sklearn.metrics import brier_score_loss, log_loss, roc_auc_score\n",
    "from sklearn.model_selection import train_test_split\n",
    "from sklearn.pipeline import Pipeline\n",
    "from sklearn.preprocessing import OneHotEncoder, StandardScaler\n",
    "\n",
    "# Particiones estratificadas 70/15/15.\n",
    "X = df[FEATURE_COLUMNS]\n",
    "y = df[TARGET_COLUMN]\n",
    "\n",
    "X_temp, X_test, y_temp, y_test = train_test_split(\n",
    "    X,\n",
    "    y,\n",
    "    test_size=0.15,\n",
    "    stratify=y,\n",
    "    random_state=GLOBAL_SEED,\n",
    ")\n",
    "\n",
    "validation_size = 0.15 / 0.85  # asegura ~15 % del total\n",
    "X_train, X_valid, y_train, y_valid = train_test_split(\n",
    "    X_temp,\n",
    "    y_temp,\n",
    "    test_size=validation_size,\n",
    "    stratify=y_temp,\n",
    "    random_state=GLOBAL_SEED,\n",
    ")\n",
    "\n",
    "split_counts = {\n",
    "    \"train\": len(X_train),\n",
    "    \"valid\": len(X_valid),\n",
    "    \"test\": len(X_test),\n",
    "}\n",
    "print(\"Distribución de filas por partición (aprox. 70/15/15):\", split_counts)\n",
    "\n",
    "\n",
    "def build_pipeline(C: float = 1.0) -> Pipeline:\n",
    "    preprocessor = ColumnTransformer(\n",
    "        transformers=[\n",
    "            (\"categorical\", OneHotEncoder(handle_unknown=\"ignore\"), CATEGORICAL_FEATURES),\n",
    "            (\"numeric\", Pipeline([(\"scaler\", StandardScaler())]), NUMERICAL_FEATURES),\n",
    "        ]\n",
    "    )\n",
    "    classifier = LogisticRegression(\n",
    "        penalty=\"l2\",\n",
    "        C=C,\n",
    "        random_state=GLOBAL_SEED,\n",
    "        max_iter=2000,\n",
    "        solver=\"lbfgs\",\n",
    "    )\n",
    "    return Pipeline(steps=[(\"preprocessor\", preprocessor), (\"classifier\", classifier)])\n",
    "\n",
    "\n",
    "baseline_model = build_pipeline(C=1.0)\n",
    "baseline_model.fit(X_train, y_train)\n",
    "\n",
    "train_proba = baseline_model.predict_proba(X_train)[:, 1]\n",
    "valid_proba = baseline_model.predict_proba(X_valid)[:, 1]\n",
    "\n",
    "metricas = pd.DataFrame(\n",
    "    {\n",
    "        \"log_loss\": [\n",
    "            log_loss(y_train, train_proba),\n",
    "            log_loss(y_valid, valid_proba),\n",
    "        ],\n",
    "        \"auc\": [\n",
    "            roc_auc_score(y_train, train_proba),\n",
    "            roc_auc_score(y_valid, valid_proba),\n",
    "        ],\n",
    "        \"brier_score\": [\n",
    "            brier_score_loss(y_train, train_proba),\n",
    "            brier_score_loss(y_valid, valid_proba),\n",
    "        ],\n",
    "    },\n",
    "    index=[\"train\", \"valid\"],\n",
    ").round(4)\n",
    "\n",
    "print()\n",
    "print(\"Métricas base (Regresión Logística con L2, C=1.0):\")\n",
    "display(metricas)\n",
    "\n",
    "mse_explicacion = (\n",
    "    \"La pérdida log-loss coincide con la maximización de la verosimilitud de un modelo Bernoulli y penaliza con mayor \"\n",
    "    \"fuerza las probabilidades mal calibradas. Usar MSE como objetivo para clasificación binaria rompe esta relación \"\n",
    "    \"probabilística, produce gradientes pobres cerca de los extremos y no prioriza la calibración, por lo que no es \"\n",
    "    \"adecuado como criterio principal.\"\n",
    ")\n",
    "\n",
    "print()\n",
    "print(\"Justificación sobre el rechazo de MSE:\")\n",
    "print(textwrap.fill(mse_explicacion, width=100))\n"
   ]
  },
  {
   "cell_type": "code",
   "execution_count": 4,
   "id": "71859374",
   "metadata": {
    "execution": {
     "iopub.execute_input": "2025-10-03T19:34:23.480608Z",
     "iopub.status.busy": "2025-10-03T19:34:23.479798Z",
     "iopub.status.idle": "2025-10-03T19:34:25.135962Z",
     "shell.execute_reply": "2025-10-03T19:34:25.135283Z"
    }
   },
   "outputs": [
    {
     "name": "stdout",
     "output_type": "stream",
     "text": [
      "Resultados de control de capacidad (menor log-loss es mejor):\n"
     ]
    },
    {
     "data": {
      "text/html": [
       "<div>\n",
       "<style scoped>\n",
       "    .dataframe tbody tr th:only-of-type {\n",
       "        vertical-align: middle;\n",
       "    }\n",
       "\n",
       "    .dataframe tbody tr th {\n",
       "        vertical-align: top;\n",
       "    }\n",
       "\n",
       "    .dataframe thead th {\n",
       "        text-align: right;\n",
       "    }\n",
       "</style>\n",
       "<table border=\"1\" class=\"dataframe\">\n",
       "  <thead>\n",
       "    <tr style=\"text-align: right;\">\n",
       "      <th></th>\n",
       "      <th>C</th>\n",
       "      <th>train_log_loss</th>\n",
       "      <th>valid_log_loss</th>\n",
       "      <th>valid_auc</th>\n",
       "      <th>valid_brier</th>\n",
       "    </tr>\n",
       "  </thead>\n",
       "  <tbody>\n",
       "    <tr>\n",
       "      <th>0</th>\n",
       "      <td>0.001</td>\n",
       "      <td>0.4484</td>\n",
       "      <td>0.4501</td>\n",
       "      <td>0.8630</td>\n",
       "      <td>0.1440</td>\n",
       "    </tr>\n",
       "    <tr>\n",
       "      <th>1</th>\n",
       "      <td>0.010</td>\n",
       "      <td>0.4036</td>\n",
       "      <td>0.4113</td>\n",
       "      <td>0.8618</td>\n",
       "      <td>0.1315</td>\n",
       "    </tr>\n",
       "    <tr>\n",
       "      <th>2</th>\n",
       "      <td>0.100</td>\n",
       "      <td>0.3993</td>\n",
       "      <td>0.4118</td>\n",
       "      <td>0.8608</td>\n",
       "      <td>0.1319</td>\n",
       "    </tr>\n",
       "    <tr>\n",
       "      <th>3</th>\n",
       "      <td>1.000</td>\n",
       "      <td>0.3986</td>\n",
       "      <td>0.4128</td>\n",
       "      <td>0.8606</td>\n",
       "      <td>0.1322</td>\n",
       "    </tr>\n",
       "    <tr>\n",
       "      <th>4</th>\n",
       "      <td>10.000</td>\n",
       "      <td>0.3984</td>\n",
       "      <td>0.4129</td>\n",
       "      <td>0.8605</td>\n",
       "      <td>0.1323</td>\n",
       "    </tr>\n",
       "    <tr>\n",
       "      <th>5</th>\n",
       "      <td>100.000</td>\n",
       "      <td>0.3983</td>\n",
       "      <td>0.4129</td>\n",
       "      <td>0.8605</td>\n",
       "      <td>0.1323</td>\n",
       "    </tr>\n",
       "    <tr>\n",
       "      <th>6</th>\n",
       "      <td>1000.000</td>\n",
       "      <td>0.3983</td>\n",
       "      <td>0.4130</td>\n",
       "      <td>0.8605</td>\n",
       "      <td>0.1324</td>\n",
       "    </tr>\n",
       "  </tbody>\n",
       "</table>\n",
       "</div>"
      ],
      "text/plain": [
       "          C  train_log_loss  valid_log_loss  valid_auc  valid_brier\n",
       "0     0.001          0.4484          0.4501     0.8630       0.1440\n",
       "1     0.010          0.4036          0.4113     0.8618       0.1315\n",
       "2     0.100          0.3993          0.4118     0.8608       0.1319\n",
       "3     1.000          0.3986          0.4128     0.8606       0.1322\n",
       "4    10.000          0.3984          0.4129     0.8605       0.1323\n",
       "5   100.000          0.3983          0.4129     0.8605       0.1323\n",
       "6  1000.000          0.3983          0.4130     0.8605       0.1324"
      ]
     },
     "metadata": {},
     "output_type": "display_data"
    },
    {
     "data": {
      "image/png": "[encoded data removed]",
      "text/plain": [
       "<Figure size 800x500 with 1 Axes>"
      ]
     },
     "metadata": {},
     "output_type": "display_data"
    },
    {
     "name": "stdout",
     "output_type": "stream",
     "text": [
      "Mejor C (mínimo log-loss en validación): 0.0100\n",
      "La curva evidencia el clásico compromiso sesgo-varianza: con C muy pequeños (regularización fuerte)\n",
      "el modelo subajusta y la pérdida en train/valid es alta; con C muy grandes reduce el sesgo pero\n",
      "incrementa la varianza, empeorando la log-loss en validación. Seleccionamos el C que equilibra ambas\n",
      "curvas para generalizar mejor.\n"
     ]
    }
   ],
   "source": [
    "# Punto 3: Diseño de validación y control de capacidad (Regresión Logística L2)\n",
    "import matplotlib.pyplot as plt\n",
    "import numpy as np\n",
    "import pandas as pd\n",
    "from sklearn.metrics import brier_score_loss, log_loss, roc_auc_score\n",
    "\n",
    "regularization_grid = np.logspace(-3, 3, num=7)\n",
    "capacity_results = []\n",
    "\n",
    "for C in regularization_grid:\n",
    "    candidate = build_pipeline(C=C)\n",
    "    candidate.fit(X_train, y_train)\n",
    "    train_proba = candidate.predict_proba(X_train)[:, 1]\n",
    "    valid_proba = candidate.predict_proba(X_valid)[:, 1]\n",
    "    capacity_results.append(\n",
    "        {\n",
    "            \"C\": C,\n",
    "            \"train_log_loss\": log_loss(y_train, train_proba),\n",
    "            \"valid_log_loss\": log_loss(y_valid, valid_proba),\n",
    "            \"valid_auc\": roc_auc_score(y_valid, valid_proba),\n",
    "            \"valid_brier\": brier_score_loss(y_valid, valid_proba),\n",
    "        }\n",
    "    )\n",
    "\n",
    "capacity_df = pd.DataFrame(capacity_results)\n",
    "print(\"Resultados de control de capacidad (menor log-loss es mejor):\")\n",
    "display(capacity_df.round({\"C\": 4, \"train_log_loss\": 4, \"valid_log_loss\": 4, \"valid_auc\": 4, \"valid_brier\": 4}))\n",
    "\n",
    "plt.figure(figsize=(8, 5))\n",
    "plt.semilogx(capacity_df[\"C\"], capacity_df[\"train_log_loss\"], marker=\"o\", label=\"Train log-loss\")\n",
    "plt.semilogx(capacity_df[\"C\"], capacity_df[\"valid_log_loss\"], marker=\"o\", label=\"Valid log-loss\")\n",
    "plt.xlabel(\"C (menor = regularización más fuerte)\")\n",
    "plt.ylabel(\"Log-loss\")\n",
    "plt.title(\"Curva train vs. valid para control de capacidad\")\n",
    "plt.grid(True, which=\"both\", linestyle=\"--\", alpha=0.4)\n",
    "plt.legend()\n",
    "plt.show()\n",
    "\n",
    "BEST_LOGREG_C = float(capacity_df.loc[capacity_df[\"valid_log_loss\"].idxmin(), \"C\"])\n",
    "print(f\"Mejor C (mínimo log-loss en validación): {BEST_LOGREG_C:.4f}\")\n",
    "print(\n",
    "    textwrap.fill(\n",
    "        \"La curva evidencia el clásico compromiso sesgo-varianza: con C muy pequeños (regularización fuerte) el modelo \"\n",
    "        \"subajusta y la pérdida en train/valid es alta; con C muy grandes reduce el sesgo pero incrementa la varianza, \"\n",
    "        \"empeorando la log-loss en validación. Seleccionamos el C que equilibra ambas curvas para generalizar mejor.\",\n",
    "        width=100,\n",
    "    )\n",
    ")\n"
   ]
  }
 ],
 "metadata": {
  "colab": {
   "provenance": []
  },
  "kernelspec": {
   "display_name": "Python 3",
   "language": "python",
   "name": "python3"
  },
  "language_info": {
   "codemirror_mode": {
    "name": "ipython",
    "version": 3
   },
   "file_extension": ".py",
   "mimetype": "text/x-python",
   "name": "python",
   "nbconvert_exporter": "python",
   "pygments_lexer": "ipython3",
   "version": "3.12.10"
  }
 },
 "nbformat": 4,
 "nbformat_minor": 5
}
