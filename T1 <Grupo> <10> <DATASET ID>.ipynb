{
  "cells": [
    {
      "cell_type": "markdown",
      "metadata": {
        "id": "5mcyPkl8etAu"
      },
      "source": [
        "# Guía estructurada de la Tarea 1\n",
        "\n",
        "Este notebook resume los hitos principales del enunciado para mantener un plan de trabajo ordenado. Avanza sección por sección y completa cada hito conforme desarrolles tu solución del proyecto.\n"
      ],
      "id": "5mcyPkl8etAu"
    },
    {
      "cell_type": "code",
      "execution_count": null,
      "metadata": {
        "id": "Nl_xPaNWetAw"
      },
      "outputs": [],
      "source": [
        "# Configuración base para reproducibilidad\n",
        "GLOBAL_SEED = 42\n",
        "DATASET_ID = \"<por_definir>\"\n"
      ],
      "id": "Nl_xPaNWetAw"
    },
    {
      "cell_type": "markdown",
      "metadata": {
        "id": "3nDSy1YqetAz"
      },
      "source": [
        "## 1. E–T–P y framing\n",
        "\n",
        "- Describe la Experiencia (E), la Tarea (T) y el Performance/criterio (P).\n",
        "- Define el framing principal como clasificación binaria de `purchase` con salida probabilística.\n",
        "- Justifica si usarás tasas agregadas y la decisión de negocio basada en umbrales.\n",
        "\n"
      ],
      "id": "3nDSy1YqetAz"
    },
    {
      "cell_type": "markdown",
      "metadata": {
        "id": "KIjYp-BqetA1"
      },
      "source": [
        "## 2. Métricas y pérdida\n",
        "\n",
        "- Usa log-loss (entropía cruzada) como pérdida principal.\n",
        "- Reporta AUC y Brier score.\n",
        "- Explica por qué MSE no es adecuado como objetivo principal y relaciónalo con máxima verosimilitud.\n",
        "\n"
      ],
      "id": "KIjYp-BqetA1"
    },
    {
      "cell_type": "markdown",
      "metadata": {
        "id": "vEuuPE1ZetA1"
      },
      "source": [
        "## 3. Diseño de validación y control de capacidad\n",
        "\n",
        "- Define particiones train/valid/test (70/15/15) o k-fold para escoger hiperparámetros.\n",
        "- Reentrena con los mejores hiperparámetros antes del test.\n",
        "- Controla capacidad con regularización L2 (parámetro C) y grafica curvas train/valid vs. complejidad o learning curves.\n",
        "- Explica el trade-off sesgo–varianza.\n",
        "\n"
      ],
      "id": "vEuuPE1ZetA1"
    },
    {
      "cell_type": "markdown",
      "metadata": {
        "id": "Y-N5jkwjetA1"
      },
      "source": [
        "## 4. Preprocesamiento\n",
        "\n",
        "- Explora el dataset para identificar duplicados, variables irrelevantes o leakage.\n",
        "- Define codificación de variables categóricas, escalamiento y manejo de outliers o nulos según corresponda.\n",
        "\n"
      ],
      "id": "Y-N5jkwjetA1"
    },
    {
      "cell_type": "markdown",
      "metadata": {
        "id": "amvvIh7DetA1"
      },
      "source": [
        "## 5. Modelado predictivo\n",
        "\n",
        "- Entrena al menos dos modelos de clasificación (ej. regresión logística, árbol, random forest, XGBoost).\n",
        "- Compara su desempeño inicial.\n",
        "\n"
      ],
      "id": "amvvIh7DetA1"
    },
    {
      "cell_type": "markdown",
      "metadata": {
        "id": "TW7GqU-getA2"
      },
      "source": [
        "## 6. Evaluación\n",
        "\n",
        "- Reporta métricas de clasificación: accuracy, precision, recall, F1-score y AUC-ROC.\n",
        "\n"
      ],
      "id": "TW7GqU-getA2"
    },
    {
      "cell_type": "markdown",
      "metadata": {
        "id": "HlrEMA49etA2"
      },
      "source": [
        "## 7. Discusión de resultados\n",
        "\n",
        "- Destaca variables relevantes para los modelos.\n",
        "- Justifica columnas excluidas (especialmente leaks).\n",
        "- Propón insights accionables para la empresa.\n",
        "\n"
      ],
      "id": "HlrEMA49etA2"
    },
    {
      "cell_type": "markdown",
      "metadata": {
        "id": "oHPL15I0etA2"
      },
      "source": [
        "## 8. Política operativa y sensibilidad\n",
        "\n",
        "- Formula una regla clara: contactar/ofrecer si la probabilidad estimada supera el umbral t.\n",
        "- Analiza sensibilidad (ej. utilidad esperada por umbral) y discute implicancias.\n",
        "\n"
      ],
      "id": "oHPL15I0etA2"
    },
    {
      "cell_type": "markdown",
      "metadata": {
        "id": "gMP1LHp4etA2"
      },
      "source": [
        "## 9. Riesgos y mitigación\n",
        "\n",
        "- Identifica al menos tres riesgos: leakage, sesgo de muestreo, shift temporal/segmento.\n",
        "- Propón mitigaciones (auditoría de variables, validación por segmento o fuera de tiempo, calibration, A/B).\n",
        "\n"
      ],
      "id": "gMP1LHp4etA2"
    },
    {
      "cell_type": "markdown",
      "metadata": {
        "id": "VKuY-5JnetA3"
      },
      "source": [
        "## 10. Resultados y conclusiones\n",
        "\n",
        "- Resume hallazgos clave: saturación, desempeño en test, umbral recomendado.\n",
        "- Indica cómo debe operar la empresa con el modelo final.\n",
        "\n"
      ],
      "id": "VKuY-5JnetA3"
    },
    {
      "cell_type": "markdown",
      "metadata": {
        "id": "aA49wVLNetA3"
      },
      "source": [
        "## Extras opcionales\n",
        "\n",
        "- Mostrar efectos de usar `leak_after_offer` para evidenciar data leakage.\n",
        "- Calcular métricas de negocio (ej. expected profit) usando `unit_margin_if_buy`.\n",
        "- Comparar `discount` numérico vs. `discount_bucket`.\n",
        "\n"
      ],
      "id": "aA49wVLNetA3"
    },
    {
      "cell_type": "markdown",
      "metadata": {
        "id": "pC8fBNGxetA3"
      },
      "source": [
        "## Formato y reproducibilidad\n",
        "\n",
        "- Declara semilla global y DATASET_ID en la primera celda.\n",
        "- Fija semillas para NumPy/sklearn y repórtalas.\n",
        "- Reporta versiones de librerías y hash SHA-256 del CSV.\n",
        "- Trabaja sólo con el dataset entregado, sin regenerar datos.\n",
        "- Entrega resultados específicos de tu dataset.\n",
        "\n"
      ],
      "id": "pC8fBNGxetA3"
    },
    {
      "cell_type": "markdown",
      "source": [
        "# esto es una prueba"
      ],
      "metadata": {
        "id": "oK18_xceevQr"
      },
      "id": "oK18_xceevQr"
    }
  ],
  "metadata": {
    "kernelspec": {
      "display_name": "Python 3",
      "language": "python",
      "name": "python3"
    },
    "language_info": {
      "name": "python",
      "version": "3.12"
    },
    "colab": {
      "provenance": []
    }
  },
  "nbformat": 4,
  "nbformat_minor": 5
}