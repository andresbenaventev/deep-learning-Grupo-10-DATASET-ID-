{
  "cells": [
    {
      "cell_type": "markdown",
      "metadata": {
        "id": "X4Yz2Pped8Da"
      },
      "source": [
        "# Guía estructurada de la Tarea 1\n",
        "\n",
        "Este notebook resume los hitos principales del enunciado para mantener un plan de trabajo ordenado. Avanza sección por sección y completa cada hito conforme desarrolles tu solución del proyecto.\n"
      ],
      "id": "X4Yz2Pped8Da"
    },
    {
      "cell_type": "code",
      "execution_count": 2,
      "metadata": {
        "id": "SmyD2baqd8Dc"
      },
      "outputs": [],
      "source": [
        "# Configuración base para reproducibilidad\n",
        "GLOBAL_SEED = 2025\n",
        "DATASET_ID = \"T1_010_individual.csv\"\n"
      ],
      "id": "SmyD2baqd8Dc"
    },
    {
      "cell_type": "markdown",
      "metadata": {
        "id": "nrc6nTfRd8Dd"
      },
      "source": [
        "## 1. E–T–P y framing\n",
        "\n",
        "- Describe la Experiencia (E), la Tarea (T) y el Performance/criterio (P).\n",
        "- Define el framing principal como clasificación binaria de `purchase` con salida probabilística.\n",
        "- Justifica si usarás tasas agregadas y la decisión de negocio basada en umbrales.\n",
        "\n"
      ],
      "id": "nrc6nTfRd8Dd"
    },
    {
      "cell_type": "markdown",
      "metadata": {
        "id": "j11Xor8Cd8De"
      },
      "source": [
        "## 2. Métricas y pérdida\n",
        "\n",
        "- Usa log-loss (entropía cruzada) como pérdida principal.\n",
        "- Reporta AUC y Brier score.\n",
        "- Explica por qué MSE no es adecuado como objetivo principal y relaciónalo con máxima verosimilitud.\n",
        "\n"
      ],
      "id": "j11Xor8Cd8De"
    },
    {
      "cell_type": "markdown",
      "metadata": {
        "id": "aH3EPQMNd8De"
      },
      "source": [
        "## 3. Diseño de validación y control de capacidad\n",
        "\n",
        "- Define particiones train/valid/test (70/15/15) o k-fold para escoger hiperparámetros.\n",
        "- Reentrena con los mejores hiperparámetros antes del test.\n",
        "- Controla capacidad con regularización L2 (parámetro C) y grafica curvas train/valid vs. complejidad o learning curves.\n",
        "- Explica el trade-off sesgo–varianza.\n",
        "\n"
      ],
      "id": "aH3EPQMNd8De"
    },
    {
      "cell_type": "markdown",
      "metadata": {
        "id": "S4-NWYAyd8De"
      },
      "source": [
        "## 4. Preprocesamiento\n",
        "\n",
        "- Explora el dataset para identificar duplicados, variables irrelevantes o leakage.\n",
        "- Define codificación de variables categóricas, escalamiento y manejo de outliers o nulos según corresponda.\n",
        "\n"
      ],
      "id": "S4-NWYAyd8De"
    },
    {
      "cell_type": "markdown",
      "metadata": {
        "id": "DwLqndxNd8Df"
      },
      "source": [
        "## 5. Modelado predictivo\n",
        "\n",
        "- Entrena al menos dos modelos de clasificación (ej. regresión logística, árbol, random forest, XGBoost).\n",
        "- Compara su desempeño inicial.\n",
        "\n"
      ],
      "id": "DwLqndxNd8Df"
    },
    {
      "cell_type": "markdown",
      "metadata": {
        "id": "XPIJOHekd8Df"
      },
      "source": [
        "## 6. Evaluación\n",
        "\n",
        "- Reporta métricas de clasificación: accuracy, precision, recall, F1-score y AUC-ROC.\n",
        "\n"
      ],
      "id": "XPIJOHekd8Df"
    },
    {
      "cell_type": "markdown",
      "metadata": {
        "id": "Mb4Qs-tAd8Df"
      },
      "source": [
        "## 7. Discusión de resultados\n",
        "\n",
        "- Destaca variables relevantes para los modelos.\n",
        "- Justifica columnas excluidas (especialmente leaks).\n",
        "- Propón insights accionables para la empresa.\n",
        "\n"
      ],
      "id": "Mb4Qs-tAd8Df"
    },
    {
      "cell_type": "markdown",
      "metadata": {
        "id": "9NHpiSlEd8Dg"
      },
      "source": [
        "## 8. Política operativa y sensibilidad\n",
        "\n",
        "- Formula una regla clara: contactar/ofrecer si la probabilidad estimada supera el umbral t.\n",
        "- Analiza sensibilidad (ej. utilidad esperada por umbral) y discute implicancias.\n",
        "\n"
      ],
      "id": "9NHpiSlEd8Dg"
    },
    {
      "cell_type": "markdown",
      "metadata": {
        "id": "j-9hV5cvd8Dg"
      },
      "source": [
        "## 9. Riesgos y mitigación\n",
        "\n",
        "- Identifica al menos tres riesgos: leakage, sesgo de muestreo, shift temporal/segmento.\n",
        "- Propón mitigaciones (auditoría de variables, validación por segmento o fuera de tiempo, calibration, A/B).\n",
        "\n"
      ],
      "id": "j-9hV5cvd8Dg"
    },
    {
      "cell_type": "markdown",
      "metadata": {
        "id": "tPuBw11nd8Dg"
      },
      "source": [
        "## 10. Resultados y conclusiones\n",
        "\n",
        "- Resume hallazgos clave: saturación, desempeño en test, umbral recomendado.\n",
        "- Indica cómo debe operar la empresa con el modelo final.\n",
        "\n"
      ],
      "id": "tPuBw11nd8Dg"
    },
    {
      "cell_type": "markdown",
      "metadata": {
        "id": "OAHY3YR8d8Dh"
      },
      "source": [
        "## Extras opcionales\n",
        "\n",
        "- Mostrar efectos de usar `leak_after_offer` para evidenciar data leakage.\n",
        "- Calcular métricas de negocio (ej. expected profit) usando `unit_margin_if_buy`.\n",
        "- Comparar `discount` numérico vs. `discount_bucket`.\n",
        "\n"
      ],
      "id": "OAHY3YR8d8Dh"
    },
    {
      "cell_type": "markdown",
      "metadata": {
        "id": "9FGhAXTDd8Dh"
      },
      "source": [
        "## Formato y reproducibilidad\n",
        "\n",
        "- Declara semilla global y DATASET_ID en la primera celda.\n",
        "- Fija semillas para NumPy/sklearn y repórtalas.\n",
        "- Reporta versiones de librerías y hash SHA-256 del CSV.\n",
        "- Trabaja sólo con el dataset entregado, sin regenerar datos.\n",
        "- Entrega resultados específicos de tu dataset.\n",
        "\n"
      ],
      "id": "9FGhAXTDd8Dh"
    }
  ],
  "metadata": {
    "kernelspec": {
      "display_name": "Python 3",
      "language": "python",
      "name": "python3"
    },
    "language_info": {
      "name": "python",
      "version": "3.12"
    },
    "colab": {
      "provenance": []
    }
  },
  "nbformat": 4,
  "nbformat_minor": 5
}